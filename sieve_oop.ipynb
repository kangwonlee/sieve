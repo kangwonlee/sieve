{
  "cells": [
    {
      "cell_type": "markdown",
      "metadata": {
        "id": "view-in-github",
        "colab_type": "text"
      },
      "source": [
        "<a href=\"https://colab.research.google.com/github/kangwonlee/sieve/blob/main/sieve_oop.ipynb\" target=\"_parent\"><img src=\"https://colab.research.google.com/assets/colab-badge.svg\" alt=\"Open In Colab\"/></a>"
      ]
    },
    {
      "cell_type": "markdown",
      "source": [
        "# Sieve of Eratosthenes [wiki](https://en.wikipedia.org/wiki/Sieve_of_Eratosthenes)<br>에라토스테네스의 체 [wiki](https://ko.wikipedia.org/wiki/%EC%97%90%EB%9D%BC%ED%86%A0%EC%8A%A4%ED%85%8C%EB%84%A4%EC%8A%A4%EC%9D%98_%EC%B2%B4)"
      ],
      "metadata": {
        "id": "f5ziWJjKqFLD"
      },
      "id": "f5ziWJjKqFLD"
    },
    {
      "cell_type": "markdown",
      "source": [
        "어떤 정수 보다 작은 소수를 모두 찾는 방법\n",
        "\n"
      ],
      "metadata": {
        "id": "xtmNhFEcrZ9n"
      },
      "id": "xtmNhFEcrZ9n"
    },
    {
      "cell_type": "code",
      "execution_count": null,
      "id": "ec7e9983",
      "metadata": {
        "id": "ec7e9983"
      },
      "outputs": [],
      "source": [
        "import numpy as np\n",
        "\n"
      ]
    },
    {
      "cell_type": "code",
      "source": [
        "class Sieve_ipynb:\n",
        "  def __init__(self, n, col=10):\n",
        "    self.n = n\n",
        "    self.col = col\n",
        "    self.row = n // col\n",
        "\n",
        "    self.table = np.array(range(n))\n",
        "\n",
        "    self.table[0] = 0\n",
        "    self.table[1] = 0\n",
        "\n",
        "  def remove_multiples(self, i):\n",
        "    for k in range(i*2, self.n, i):\n",
        "      self.table[k] = 0\n",
        "\n",
        "  def __str__(self):\n",
        "    return str(\n",
        "        self.table.reshape((self.row, self.col))\n",
        "    )\n",
        "\n",
        "  def sieve(self):\n",
        "    for i in range(2, int((self.n)**0.5)+1):\n",
        "      if self.table[i] > 0:\n",
        "        self.remove_multiples(i)\n",
        "        print(i)\n",
        "        print(self)\n",
        "\n",
        "    return list(filter(lambda x:x, self.table))\n",
        "\n"
      ],
      "metadata": {
        "id": "lU93z9a-3IV3"
      },
      "id": "lU93z9a-3IV3",
      "execution_count": null,
      "outputs": []
    },
    {
      "cell_type": "code",
      "source": [
        "s = Sieve_ipynb(200)\n",
        "s.sieve()\n",
        "\n"
      ],
      "metadata": {
        "id": "QPw_hKDkvOCN"
      },
      "id": "QPw_hKDkvOCN",
      "execution_count": null,
      "outputs": []
    },
    {
      "cell_type": "code",
      "source": [],
      "metadata": {
        "id": "FNcajC_7vQVB"
      },
      "id": "FNcajC_7vQVB",
      "execution_count": null,
      "outputs": []
    }
  ],
  "metadata": {
    "kernelspec": {
      "display_name": "Python 3",
      "language": "python",
      "name": "python3"
    },
    "language_info": {
      "codemirror_mode": {
        "name": "ipython",
        "version": 3
      },
      "file_extension": ".py",
      "mimetype": "text/x-python",
      "name": "python",
      "nbconvert_exporter": "python",
      "pygments_lexer": "ipython3",
      "version": "3.8.8"
    },
    "colab": {
      "provenance": [],
      "include_colab_link": true
    }
  },
  "nbformat": 4,
  "nbformat_minor": 5
}