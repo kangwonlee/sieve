{
 "cells": [
  {
   "cell_type": "code",
   "execution_count": null,
   "id": "3be91fe1",
   "metadata": {},
   "outputs": [],
   "source": [
    "import pandas as pd\n",
    "\n"
   ]
  },
  {
   "cell_type": "code",
   "execution_count": null,
   "id": "316b4365",
   "metadata": {},
   "outputs": [],
   "source": [
    "def init_df(m=10, n=20):\n",
    "\n",
    "    df = init_other_columns(\n",
    "        get_first_column(m=m, n=n),\n",
    "        m=m\n",
    "    )\n",
    "\n",
    "    df.loc[0, 0] = ''\n",
    "    df.loc[0, 1] = ''\n",
    "\n",
    "    return df\n",
    "\n"
   ]
  },
  {
   "cell_type": "code",
   "execution_count": null,
   "id": "f22e6fb1",
   "metadata": {},
   "outputs": [],
   "source": [
    "def get_first_column(m=10, n=20):\n",
    "     return pd.DataFrame(\n",
    "        data=[[i] for i in range(0, n*m, m)],\n",
    "        columns=[0],\n",
    "        index=range(0, n*m, m),\n",
    "    )\n",
    "\n"
   ]
  },
  {
   "cell_type": "code",
   "execution_count": null,
   "id": "93fc35f7",
   "metadata": {},
   "outputs": [],
   "source": [
    "def init_other_columns(df, m=10):\n",
    "    for col in range(1, m):\n",
    "        df[col] = df[0] + col\n",
    "\n",
    "    return df\n",
    "\n"
   ]
  },
  {
   "cell_type": "code",
   "execution_count": null,
   "id": "4c3ec227",
   "metadata": {},
   "outputs": [],
   "source": [
    "df = init_df()\n",
    "df\n",
    "\n"
   ]
  },
  {
   "cell_type": "code",
   "execution_count": null,
   "id": "fd40e99c",
   "metadata": {},
   "outputs": [],
   "source": []
  }
 ],
 "metadata": {
  "kernelspec": {
   "display_name": "Python 3",
   "language": "python",
   "name": "python3"
  },
  "language_info": {
   "codemirror_mode": {
    "name": "ipython",
    "version": 3
   },
   "file_extension": ".py",
   "mimetype": "text/x-python",
   "name": "python",
   "nbconvert_exporter": "python",
   "pygments_lexer": "ipython3",
   "version": "3.8.8"
  }
 },
 "nbformat": 4,
 "nbformat_minor": 5
}
