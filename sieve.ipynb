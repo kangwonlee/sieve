{
 "cells": [
  {
   "cell_type": "code",
   "execution_count": null,
   "id": "1f30a636",
   "metadata": {},
   "outputs": [],
   "source": [
    "import pandas as pd\n",
    "\n"
   ]
  },
  {
   "cell_type": "code",
   "execution_count": null,
   "id": "74d37d61",
   "metadata": {},
   "outputs": [],
   "source": [
    "def init_df(m=10, n=20):\n",
    "\n",
    "    df = get_first_column(m=10, n=20)\n",
    "\n",
    "    for col in range(1, m):\n",
    "        df[col] = df[0] + col\n",
    "\n",
    "    df.loc[0, 0] = ''\n",
    "    df.loc[0, 1] = ''\n",
    "\n",
    "    return df\n",
    "\n"
   ]
  },
  {
   "cell_type": "code",
   "execution_count": null,
   "id": "3a7d7107",
   "metadata": {},
   "outputs": [],
   "source": [
    "def get_first_column(m=10, n=20):\n",
    "     return pd.DataFrame(\n",
    "        data=[[i] for i in range(0, n*m, m)],\n",
    "        columns=[0],\n",
    "        index=range(0, n*m, m),\n",
    "    )\n",
    "\n"
   ]
  },
  {
   "cell_type": "code",
   "execution_count": null,
   "id": "8e74783b",
   "metadata": {},
   "outputs": [],
   "source": [
    "df = init_df()\n",
    "df\n",
    "\n"
   ]
  },
  {
   "cell_type": "code",
   "execution_count": null,
   "id": "78cc66fa",
   "metadata": {},
   "outputs": [],
   "source": []
  }
 ],
 "metadata": {
  "kernelspec": {
   "display_name": "Python 3",
   "language": "python",
   "name": "python3"
  },
  "language_info": {
   "codemirror_mode": {
    "name": "ipython",
    "version": 3
   },
   "file_extension": ".py",
   "mimetype": "text/x-python",
   "name": "python",
   "nbconvert_exporter": "python",
   "pygments_lexer": "ipython3",
   "version": "3.8.8"
  }
 },
 "nbformat": 4,
 "nbformat_minor": 5
}
