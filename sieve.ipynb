{
 "cells": [
  {
   "cell_type": "code",
   "execution_count": null,
   "id": "61f84d6e",
   "metadata": {},
   "outputs": [],
   "source": [
    "import pandas as pd\n",
    "\n"
   ]
  },
  {
   "cell_type": "code",
   "execution_count": null,
   "id": "335ebcfc",
   "metadata": {},
   "outputs": [],
   "source": [
    "def init_df(m=10, n=20):\n",
    "\n",
    "    df = pd.DataFrame(\n",
    "        data=[[i] for i in range(0, n*m, m)],\n",
    "        columns=[0],\n",
    "        index=range(0, n*m, m),\n",
    "    )\n",
    "\n",
    "    for col in range(1, m):\n",
    "        df[col] = df[0] + col\n",
    "\n",
    "    df.loc[0, 0] = ''\n",
    "    df.loc[0, 1] = ''\n",
    "\n",
    "    return df\n",
    "\n"
   ]
  },
  {
   "cell_type": "code",
   "execution_count": null,
   "id": "68d7f089",
   "metadata": {},
   "outputs": [],
   "source": [
    "df = init_df()\n",
    "df\n",
    "\n"
   ]
  },
  {
   "cell_type": "code",
   "execution_count": null,
   "id": "e35fa87b",
   "metadata": {},
   "outputs": [],
   "source": []
  }
 ],
 "metadata": {
  "kernelspec": {
   "display_name": "Python 3",
   "language": "python",
   "name": "python3"
  },
  "language_info": {
   "codemirror_mode": {
    "name": "ipython",
    "version": 3
   },
   "file_extension": ".py",
   "mimetype": "text/x-python",
   "name": "python",
   "nbconvert_exporter": "python",
   "pygments_lexer": "ipython3",
   "version": "3.8.8"
  }
 },
 "nbformat": 4,
 "nbformat_minor": 5
}
