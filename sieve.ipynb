{
 "cells": [
  {
   "cell_type": "code",
   "execution_count": null,
   "id": "1065c6ff",
   "metadata": {},
   "outputs": [],
   "source": [
    "import math\n",
    "\n",
    "import pandas as pd\n",
    "\n"
   ]
  },
  {
   "cell_type": "code",
   "execution_count": null,
   "id": "eafa51c7",
   "metadata": {},
   "outputs": [],
   "source": [
    "def init_df(m=10, n=20):\n",
    "\n",
    "    df = init_other_columns(\n",
    "        get_first_column(m=m, n=n),\n",
    "        m=m\n",
    "    )\n",
    "\n",
    "    set_i(df, 0, '')\n",
    "    set_i(df, 1, '')\n",
    "\n",
    "    return df\n",
    "\n"
   ]
  },
  {
   "cell_type": "code",
   "execution_count": null,
   "id": "4d7e2fd4",
   "metadata": {},
   "outputs": [],
   "source": [
    "def get_first_column(m=10, n=20):\n",
    "     return pd.DataFrame(\n",
    "        data=[[i] for i in range(0, n*m, m)],\n",
    "        columns=[0],\n",
    "        index=range(0, n*m, m),\n",
    "    )\n",
    "\n"
   ]
  },
  {
   "cell_type": "code",
   "execution_count": null,
   "id": "fe4a760f",
   "metadata": {},
   "outputs": [],
   "source": [
    "def init_other_columns(df, m=10):\n",
    "    for col in range(1, m):\n",
    "        df[col] = df[0] + col\n",
    "\n",
    "    return df\n",
    "\n"
   ]
  },
  {
   "cell_type": "code",
   "execution_count": null,
   "id": "907cbc28",
   "metadata": {},
   "outputs": [],
   "source": [
    "def addr(i):\n",
    "    row = math.floor(i*.1)*10\n",
    "    col = i - row\n",
    "    return row, col\n",
    "\n"
   ]
  },
  {
   "cell_type": "code",
   "execution_count": null,
   "id": "ca79692c",
   "metadata": {},
   "outputs": [],
   "source": [
    "assert (120, 3) == addr(123)\n",
    "\n"
   ]
  },
  {
   "cell_type": "code",
   "execution_count": null,
   "id": "6473f4b3",
   "metadata": {},
   "outputs": [],
   "source": [
    "def set_i(df, i, val):\n",
    "    df.loc[addr(i)] = val\n",
    "\n"
   ]
  },
  {
   "cell_type": "code",
   "execution_count": null,
   "id": "fbf0bbc8",
   "metadata": {},
   "outputs": [],
   "source": [
    "df = init_df()\n",
    "df\n",
    "\n"
   ]
  },
  {
   "cell_type": "code",
   "execution_count": null,
   "id": "932c4866",
   "metadata": {},
   "outputs": [],
   "source": []
  }
 ],
 "metadata": {
  "kernelspec": {
   "display_name": "Python 3",
   "language": "python",
   "name": "python3"
  },
  "language_info": {
   "codemirror_mode": {
    "name": "ipython",
    "version": 3
   },
   "file_extension": ".py",
   "mimetype": "text/x-python",
   "name": "python",
   "nbconvert_exporter": "python",
   "pygments_lexer": "ipython3",
   "version": "3.8.8"
  }
 },
 "nbformat": 4,
 "nbformat_minor": 5
}
