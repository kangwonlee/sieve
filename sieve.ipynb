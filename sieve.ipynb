{
  "cells": [
    {
      "cell_type": "markdown",
      "metadata": {
        "id": "view-in-github",
        "colab_type": "text"
      },
      "source": [
        "<a href=\"https://colab.research.google.com/github/kangwonlee/sieve/blob/main/sieve.ipynb\" target=\"_parent\"><img src=\"https://colab.research.google.com/assets/colab-badge.svg\" alt=\"Open In Colab\"/></a>"
      ]
    },
    {
      "cell_type": "markdown",
      "source": [
        "# Sieve of Eratosthenes [wiki](https://en.wikipedia.org/wiki/Sieve_of_Eratosthenes)<br>에라토스테네스의 체 [wiki](https://ko.wikipedia.org/wiki/%EC%97%90%EB%9D%BC%ED%86%A0%EC%8A%A4%ED%85%8C%EB%84%A4%EC%8A%A4%EC%9D%98_%EC%B2%B4)"
      ],
      "metadata": {
        "id": "f5ziWJjKqFLD"
      },
      "id": "f5ziWJjKqFLD"
    },
    {
      "cell_type": "markdown",
      "source": [
        "어떤 정수 보다 작은 소수를 모두 찾는 방법\n",
        "\n"
      ],
      "metadata": {
        "id": "xtmNhFEcrZ9n"
      },
      "id": "xtmNhFEcrZ9n"
    },
    {
      "cell_type": "code",
      "execution_count": null,
      "id": "ec7e9983",
      "metadata": {
        "id": "ec7e9983"
      },
      "outputs": [],
      "source": [
        "import numpy as np\n",
        "\n"
      ]
    },
    {
      "cell_type": "code",
      "execution_count": null,
      "id": "136087a9",
      "metadata": {
        "id": "136087a9"
      },
      "outputs": [],
      "source": [
        "m = 10\n",
        "n = 20\n",
        "\n"
      ]
    },
    {
      "cell_type": "code",
      "execution_count": null,
      "id": "c41dd8b2",
      "metadata": {
        "id": "c41dd8b2"
      },
      "outputs": [],
      "source": [
        "def init_table(m=10, n=20):\n",
        "\n",
        "  table =  (\n",
        "    np.array(range(n * m))\n",
        "      .reshape(n, m)\n",
        "  )\n",
        "\n",
        "  set_i(table, 0, 0)\n",
        "  set_i(table, 1, 0)\n",
        "\n",
        "  return table\n",
        "\n"
      ]
    },
    {
      "cell_type": "code",
      "source": [
        "def get_i(table, i, m=10, n=20):\n",
        "    return table.reshape((1, m*n))[0, i]\n",
        "\n"
      ],
      "metadata": {
        "id": "g1tSkRNBr62i"
      },
      "id": "g1tSkRNBr62i",
      "execution_count": null,
      "outputs": []
    },
    {
      "cell_type": "code",
      "execution_count": null,
      "id": "ccb06fe0",
      "metadata": {
        "id": "ccb06fe0"
      },
      "outputs": [],
      "source": [
        "def set_i(table, i, val=-1, m=10, n=20):\n",
        "    table.reshape((1, m*n))[0, i] = val\n",
        "\n"
      ]
    },
    {
      "cell_type": "code",
      "execution_count": null,
      "id": "813d4f1f",
      "metadata": {
        "scrolled": true,
        "id": "813d4f1f"
      },
      "outputs": [],
      "source": [
        "table = init_table(m, n)\n",
        "table\n",
        "\n"
      ]
    },
    {
      "cell_type": "code",
      "execution_count": null,
      "id": "25fe2d57",
      "metadata": {
        "id": "25fe2d57"
      },
      "outputs": [],
      "source": [
        "def remove_multiples(table, i, val=0, m=10, n=20):\n",
        "    for k in range(i*2, m*n, i):\n",
        "        if get_i(table, k) > 0:\n",
        "            set_i(table, k, val)\n",
        "\n"
      ]
    },
    {
      "cell_type": "code",
      "execution_count": null,
      "id": "01018334",
      "metadata": {
        "id": "01018334"
      },
      "outputs": [],
      "source": [
        "remove_multiples(table, 2)\n",
        "table\n",
        "\n"
      ]
    },
    {
      "cell_type": "code",
      "execution_count": null,
      "id": "87c08792",
      "metadata": {
        "scrolled": false,
        "id": "87c08792"
      },
      "outputs": [],
      "source": [
        "for k in range(3, int((m*n)**0.5)+1):\n",
        "    if get_i(table, k) > 0:\n",
        "        remove_multiples(table, k)\n",
        "        print(k)\n",
        "        print(table)\n",
        "\n"
      ]
    }
  ],
  "metadata": {
    "kernelspec": {
      "display_name": "Python 3",
      "language": "python",
      "name": "python3"
    },
    "language_info": {
      "codemirror_mode": {
        "name": "ipython",
        "version": 3
      },
      "file_extension": ".py",
      "mimetype": "text/x-python",
      "name": "python",
      "nbconvert_exporter": "python",
      "pygments_lexer": "ipython3",
      "version": "3.8.8"
    },
    "colab": {
      "provenance": [],
      "include_colab_link": true
    }
  },
  "nbformat": 4,
  "nbformat_minor": 5
}