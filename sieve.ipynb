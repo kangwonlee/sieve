{
 "cells": [
  {
   "cell_type": "code",
   "execution_count": null,
   "id": "e0e74fc2",
   "metadata": {},
   "outputs": [],
   "source": [
    "import math\n",
    "\n",
    "import numpy as np\n",
    "\n"
   ]
  },
  {
   "cell_type": "code",
   "execution_count": null,
   "id": "305d7af5",
   "metadata": {},
   "outputs": [],
   "source": [
    "m = 10\n",
    "n = 20\n",
    "\n"
   ]
  },
  {
   "cell_type": "code",
   "execution_count": null,
   "id": "f7eccdb5",
   "metadata": {},
   "outputs": [],
   "source": [
    "def init_table(m=10, n=20):\n",
    "\n",
    "    return (\n",
    "        np.array(range(n * m), dtype=object)\n",
    "            .reshape(n, m)\n",
    "    )\n",
    "\n"
   ]
  },
  {
   "cell_type": "code",
   "execution_count": null,
   "id": "10ee320c",
   "metadata": {
    "scrolled": true
   },
   "outputs": [],
   "source": [
    "table = init_table(m, n)\n",
    "table\n",
    "\n"
   ]
  },
  {
   "cell_type": "code",
   "execution_count": null,
   "id": "82d50c9b",
   "metadata": {},
   "outputs": [],
   "source": [
    "def set_i(table, i, val, m=10, n=20):\n",
    "    table.reshape((1, m*n))[0, i] = val\n",
    "\n"
   ]
  },
  {
   "cell_type": "code",
   "execution_count": null,
   "id": "b3e85f4c",
   "metadata": {},
   "outputs": [],
   "source": [
    "set_i(table, 0, ' ')\n",
    "set_i(table, 1, ' ')\n",
    "\n"
   ]
  },
  {
   "cell_type": "code",
   "execution_count": null,
   "id": "b871120b",
   "metadata": {},
   "outputs": [],
   "source": [
    "table\n"
   ]
  },
  {
   "cell_type": "code",
   "execution_count": null,
   "id": "79895881",
   "metadata": {},
   "outputs": [],
   "source": []
  }
 ],
 "metadata": {
  "kernelspec": {
   "display_name": "Python 3",
   "language": "python",
   "name": "python3"
  },
  "language_info": {
   "codemirror_mode": {
    "name": "ipython",
    "version": 3
   },
   "file_extension": ".py",
   "mimetype": "text/x-python",
   "name": "python",
   "nbconvert_exporter": "python",
   "pygments_lexer": "ipython3",
   "version": "3.8.8"
  }
 },
 "nbformat": 4,
 "nbformat_minor": 5
}
