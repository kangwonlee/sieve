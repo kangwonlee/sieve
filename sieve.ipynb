{
  "cells": [
    {
      "cell_type": "markdown",
      "source": [
        "# Sieve of Eratosthenes [wiki](https://en.wikipedia.org/wiki/Sieve_of_Eratosthenes)<br>에라토스테네스의 체 [wiki](https://ko.wikipedia.org/wiki/%EC%97%90%EB%9D%BC%ED%86%A0%EC%8A%A4%ED%85%8C%EB%84%A4%EC%8A%A4%EC%9D%98_%EC%B2%B4)"
      ],
      "metadata": {
        "id": "f5ziWJjKqFLD"
      },
      "id": "f5ziWJjKqFLD"
    },
    {
      "cell_type": "markdown",
      "source": [
        "어떤 정수 보다 작은 소수를 모두 찾는 방법\n",
        "\n"
      ],
      "metadata": {
        "id": "xtmNhFEcrZ9n"
      },
      "id": "xtmNhFEcrZ9n"
    },
    {
      "cell_type": "code",
      "execution_count": null,
      "id": "ec7e9983",
      "metadata": {
        "id": "ec7e9983"
      },
      "outputs": [],
      "source": [
        "import numpy as np\n",
        "\n"
      ]
    },
    {
      "cell_type": "code",
      "execution_count": null,
      "id": "c41dd8b2",
      "metadata": {
        "id": "c41dd8b2"
      },
      "outputs": [],
      "source": [
        "def init_table(n):\n",
        "  table =  np.arange(n, dtype=int)\n",
        "\n",
        "  table[1] = 0\n",
        "\n",
        "  return table\n",
        "\n"
      ]
    },
    {
      "cell_type": "code",
      "execution_count": null,
      "id": "25fe2d57",
      "metadata": {
        "id": "25fe2d57"
      },
      "outputs": [],
      "source": [
        "def remove_multiples(table, i, n, val=0):\n",
        "  for k in range(i*2, n, i):\n",
        "    if table[k] > 0:\n",
        "      table[k] = val\n",
        "\n"
      ]
    },
    {
      "cell_type": "code",
      "execution_count": null,
      "id": "87c08792",
      "metadata": {
        "scrolled": false,
        "id": "87c08792"
      },
      "outputs": [],
      "source": [
        "def sieve(n=200, col=10):\n",
        "  row = n // col\n",
        "\n",
        "  table = init_table(n)\n",
        "\n",
        "  for k in range(2, int((n)**0.5)+1):\n",
        "    if table[k] > 0:\n",
        "      remove_multiples(table, k, n)\n",
        "      print(k)\n",
        "      print(table.reshape((row, col)))\n",
        "\n",
        "  return list(filter(lambda x:x, table))\n",
        "\n"
      ]
    },
    {
      "cell_type": "code",
      "source": [
        "sieve(200)\n",
        "\n"
      ],
      "metadata": {
        "id": "QPw_hKDkvOCN"
      },
      "id": "QPw_hKDkvOCN",
      "execution_count": null,
      "outputs": []
    },
    {
      "cell_type": "code",
      "source": [],
      "metadata": {
        "id": "FNcajC_7vQVB"
      },
      "id": "FNcajC_7vQVB",
      "execution_count": null,
      "outputs": []
    }
  ],
  "metadata": {
    "kernelspec": {
      "display_name": "Python 3",
      "language": "python",
      "name": "python3"
    },
    "language_info": {
      "codemirror_mode": {
        "name": "ipython",
        "version": 3
      },
      "file_extension": ".py",
      "mimetype": "text/x-python",
      "name": "python",
      "nbconvert_exporter": "python",
      "pygments_lexer": "ipython3",
      "version": "3.8.8"
    },
    "colab": {
      "provenance": []
    }
  },
  "nbformat": 4,
  "nbformat_minor": 5
}