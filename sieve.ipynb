{
 "cells": [
  {
   "cell_type": "code",
   "execution_count": null,
   "id": "f35fa10c",
   "metadata": {},
   "outputs": [],
   "source": [
    "import math\n",
    "\n",
    "import numpy as np\n",
    "\n"
   ]
  },
  {
   "cell_type": "code",
   "execution_count": null,
   "id": "d5c31400",
   "metadata": {},
   "outputs": [],
   "source": [
    "m = 10\n",
    "n = 20\n",
    "\n"
   ]
  },
  {
   "cell_type": "code",
   "execution_count": null,
   "id": "5753f844",
   "metadata": {},
   "outputs": [],
   "source": [
    "def init_table(m=10, n=20):\n",
    "\n",
    "    return (\n",
    "        np.array(range(n * m), dtype=object)\n",
    "            .reshape(n, m)\n",
    "    )\n",
    "\n"
   ]
  },
  {
   "cell_type": "code",
   "execution_count": null,
   "id": "ea896f13",
   "metadata": {
    "scrolled": true
   },
   "outputs": [],
   "source": [
    "table = init_table(m, n)\n",
    "table\n",
    "\n"
   ]
  },
  {
   "cell_type": "code",
   "execution_count": null,
   "id": "63ffc577",
   "metadata": {},
   "outputs": [],
   "source": [
    "def set_i(table, i, val=' ', m=10, n=20):\n",
    "    table.reshape((1, m*n))[0, i] = val\n",
    "\n"
   ]
  },
  {
   "cell_type": "code",
   "execution_count": null,
   "id": "22311ab5",
   "metadata": {},
   "outputs": [],
   "source": [
    "set_i(table, 0, ' ')\n",
    "set_i(table, 1, ' ')\n",
    "\n"
   ]
  },
  {
   "cell_type": "code",
   "execution_count": null,
   "id": "dc0ed8a6",
   "metadata": {},
   "outputs": [],
   "source": [
    "table\n",
    "\n"
   ]
  },
  {
   "cell_type": "code",
   "execution_count": null,
   "id": "84f3a536",
   "metadata": {},
   "outputs": [],
   "source": [
    "def remove_multiples(table, i, m=10, n=20):\n",
    "    for k in range(i*2, m*n, i):\n",
    "        set_i(table, k, ' ')\n",
    "\n"
   ]
  },
  {
   "cell_type": "code",
   "execution_count": null,
   "id": "7d4fc6a9",
   "metadata": {},
   "outputs": [],
   "source": [
    "remove_multiples(table, 2)\n",
    "table\n",
    "\n"
   ]
  },
  {
   "cell_type": "code",
   "execution_count": null,
   "id": "e13165e6",
   "metadata": {},
   "outputs": [],
   "source": [
    "for k in range(3, int(m*n**0.5)+1):\n",
    "    remove_multiples(table, k)\n",
    "    print(k)\n",
    "    print(table)\n",
    "\n"
   ]
  }
 ],
 "metadata": {
  "kernelspec": {
   "display_name": "Python 3",
   "language": "python",
   "name": "python3"
  },
  "language_info": {
   "codemirror_mode": {
    "name": "ipython",
    "version": 3
   },
   "file_extension": ".py",
   "mimetype": "text/x-python",
   "name": "python",
   "nbconvert_exporter": "python",
   "pygments_lexer": "ipython3",
   "version": "3.8.8"
  }
 },
 "nbformat": 4,
 "nbformat_minor": 5
}
